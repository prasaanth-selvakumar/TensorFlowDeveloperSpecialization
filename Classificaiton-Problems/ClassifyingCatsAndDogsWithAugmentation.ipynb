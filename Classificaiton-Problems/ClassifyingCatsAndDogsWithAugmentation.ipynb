{
  "nbformat": 4,
  "nbformat_minor": 0,
  "metadata": {
    "colab": {
      "name": "ClassifyingCatsAndDogsWithAugmentation.ipynb",
      "provenance": [],
      "toc_visible": true
    },
    "kernelspec": {
      "name": "python3",
      "display_name": "Python 3"
    },
    "language_info": {
      "name": "python"
    },
    "accelerator": "GPU"
  },
  "cells": [
    {
      "cell_type": "markdown",
      "metadata": {
        "id": "mgfK2jwe9_wX"
      },
      "source": [
        "The aim of the notebook is to use the inbuilt Augmentation features present in the ImageDataGenerator Class to check if we reduce overfitting \n",
        "\n",
        "\n",
        "Using the same architecture used in the previous notebook caps the max accuracy on validation at ~78 Changing the architecture to see if we get better resuts\n",
        "\n",
        "The accuracy of the new architecture maxes out at 85 validation accuracy and it starts to overfit around the last 20 epochs "
      ]
    },
    {
      "cell_type": "code",
      "metadata": {
        "colab": {
          "base_uri": "https://localhost:8080/"
        },
        "id": "rJw4dx7s9328",
        "outputId": "87a2e582-7e96-4626-df76-422fcaecbddf"
      },
      "source": [
        "!wget --no-check-certificate \\\n",
        "  https://storage.googleapis.com/mledu-datasets/cats_and_dogs_filtered.zip \\\n",
        "  -O /tmp/cats_and_dogs_filtered.zip"
      ],
      "execution_count": 1,
      "outputs": [
        {
          "output_type": "stream",
          "text": [
            "--2021-07-18 05:51:07--  https://storage.googleapis.com/mledu-datasets/cats_and_dogs_filtered.zip\n",
            "Resolving storage.googleapis.com (storage.googleapis.com)... 172.217.15.112, 172.217.164.144, 142.250.81.208, ...\n",
            "Connecting to storage.googleapis.com (storage.googleapis.com)|172.217.15.112|:443... connected.\n",
            "HTTP request sent, awaiting response... 200 OK\n",
            "Length: 68606236 (65M) [application/zip]\n",
            "Saving to: ‘/tmp/cats_and_dogs_filtered.zip’\n",
            "\n",
            "/tmp/cats_and_dogs_ 100%[===================>]  65.43M   189MB/s    in 0.3s    \n",
            "\n",
            "2021-07-18 05:51:07 (189 MB/s) - ‘/tmp/cats_and_dogs_filtered.zip’ saved [68606236/68606236]\n",
            "\n"
          ],
          "name": "stdout"
        }
      ]
    },
    {
      "cell_type": "code",
      "metadata": {
        "colab": {
          "base_uri": "https://localhost:8080/"
        },
        "id": "8QWADu46-XXJ",
        "outputId": "dd94be8b-bf97-46a8-b55a-b7d06775f3e7"
      },
      "source": [
        "!unzip /tmp/cats_and_dogs_filtered.zip"
      ],
      "execution_count": 2,
      "outputs": [
        {
          "output_type": "stream",
          "text": [
            "Archive:  /tmp/cats_and_dogs_filtered.zip\n",
            "replace cats_and_dogs_filtered/vectorize.py? [y]es, [n]o, [A]ll, [N]one, [r]ename: N\n"
          ],
          "name": "stdout"
        }
      ]
    },
    {
      "cell_type": "code",
      "metadata": {
        "id": "9LZmfI4H-eCi"
      },
      "source": [
        "### As seen earlier the data already has the train and the test set segregated \n",
        "\n",
        "## The Task this time would be to create a trining and a test generator, the train generator must employ augmentation to \n"
      ],
      "execution_count": 3,
      "outputs": []
    },
    {
      "cell_type": "code",
      "metadata": {
        "id": "U17j-4Iv-xvc"
      },
      "source": [
        "from tensorflow import keras \n",
        "from tensorflow.keras.preprocessing.image import ImageDataGenerator\n"
      ],
      "execution_count": 4,
      "outputs": []
    },
    {
      "cell_type": "code",
      "metadata": {
        "id": "0LpyXqZwBsu8"
      },
      "source": [
        "train_gen = ImageDataGenerator(rescale=1./255,\n",
        "                               horizontal_flip = True,\n",
        "                               rotation_range=40,\n",
        "                               width_shift_range=0.2,\n",
        "                               height_shift_range=0.2,\n",
        "                               zoom_range=0.2,\n",
        "                               shear_range=0.1)\n",
        "validate_gen = ImageDataGenerator(rescale=1./255)  #This should only have rescale otherwise we wouldn't \n",
        "                                                   #have exact data to compare our results against\n"
      ],
      "execution_count": 11,
      "outputs": []
    },
    {
      "cell_type": "code",
      "metadata": {
        "colab": {
          "base_uri": "https://localhost:8080/"
        },
        "id": "wDShCh5fCELy",
        "outputId": "c0f69d2c-88d6-4e17-9791-52344bdf9b1d"
      },
      "source": [
        "train_data = train_gen.flow_from_directory('cats_and_dogs_filtered/train/',\n",
        "                                           batch_size=20,\n",
        "                                           target_size=(150,150),\n",
        "                                           class_mode='binary')\n",
        "\n",
        "validate_data = validate_gen.flow_from_directory('cats_and_dogs_filtered/validation/',\n",
        "                                                 batch_size=10,\n",
        "                                                 target_size=(150,150),\n",
        "                                                 class_mode='binary')"
      ],
      "execution_count": 12,
      "outputs": [
        {
          "output_type": "stream",
          "text": [
            "Found 2000 images belonging to 2 classes.\n",
            "Found 1000 images belonging to 2 classes.\n"
          ],
          "name": "stdout"
        }
      ]
    },
    {
      "cell_type": "code",
      "metadata": {
        "id": "gQMEUT5yDNSs"
      },
      "source": [
        "### Defining model Architecture\n",
        "\n",
        "cc_classifier = keras.Sequential([keras.layers.Conv2D(16, (3,3), input_shape=(150,150,3), activation='relu'),\n",
        "                                  keras.layers.MaxPooling2D(2, 2),\n",
        "                                  keras.layers.Conv2D(32, (3, 3), activation='relu'),\n",
        "                                  keras.layers.MaxPooling2D(2, 2),\n",
        "                                  keras.layers.Conv2D(64, (3,3), activation='relu'),\n",
        "                                  keras.layers.MaxPooling2D(2, 2),\n",
        "                                  keras.layers.Conv2D(128, (3,3), activation='relu'),\n",
        "                                  keras.layers.MaxPooling2D(2, 2),\n",
        "                                  keras.layers.Conv2D(256, (3,3), activation='relu'),\n",
        "                                  keras.layers.MaxPooling2D(2, 2),\n",
        "                                  keras.layers.Flatten(),\n",
        "                                  keras.layers.Dense(512, activation='relu'),\n",
        "                                  keras.layers.Dense(1, activation='sigmoid')])"
      ],
      "execution_count": 13,
      "outputs": []
    },
    {
      "cell_type": "code",
      "metadata": {
        "colab": {
          "base_uri": "https://localhost:8080/"
        },
        "id": "joE9M1eMJvM2",
        "outputId": "3adde63b-4934-4711-963e-d5bdc143f533"
      },
      "source": [
        "cc_classifier.summary()"
      ],
      "execution_count": 14,
      "outputs": [
        {
          "output_type": "stream",
          "text": [
            "Model: \"sequential_1\"\n",
            "_________________________________________________________________\n",
            "Layer (type)                 Output Shape              Param #   \n",
            "=================================================================\n",
            "conv2d_5 (Conv2D)            (None, 148, 148, 16)      448       \n",
            "_________________________________________________________________\n",
            "max_pooling2d_5 (MaxPooling2 (None, 74, 74, 16)        0         \n",
            "_________________________________________________________________\n",
            "conv2d_6 (Conv2D)            (None, 72, 72, 32)        4640      \n",
            "_________________________________________________________________\n",
            "max_pooling2d_6 (MaxPooling2 (None, 36, 36, 32)        0         \n",
            "_________________________________________________________________\n",
            "conv2d_7 (Conv2D)            (None, 34, 34, 64)        18496     \n",
            "_________________________________________________________________\n",
            "max_pooling2d_7 (MaxPooling2 (None, 17, 17, 64)        0         \n",
            "_________________________________________________________________\n",
            "conv2d_8 (Conv2D)            (None, 15, 15, 128)       73856     \n",
            "_________________________________________________________________\n",
            "max_pooling2d_8 (MaxPooling2 (None, 7, 7, 128)         0         \n",
            "_________________________________________________________________\n",
            "conv2d_9 (Conv2D)            (None, 5, 5, 256)         295168    \n",
            "_________________________________________________________________\n",
            "max_pooling2d_9 (MaxPooling2 (None, 2, 2, 256)         0         \n",
            "_________________________________________________________________\n",
            "flatten_1 (Flatten)          (None, 1024)              0         \n",
            "_________________________________________________________________\n",
            "dense_2 (Dense)              (None, 512)               524800    \n",
            "_________________________________________________________________\n",
            "dense_3 (Dense)              (None, 1)                 513       \n",
            "=================================================================\n",
            "Total params: 917,921\n",
            "Trainable params: 917,921\n",
            "Non-trainable params: 0\n",
            "_________________________________________________________________\n"
          ],
          "name": "stdout"
        }
      ]
    },
    {
      "cell_type": "code",
      "metadata": {
        "id": "BQUivJ_vELfz"
      },
      "source": [
        "cc_classifier.compile(optimizer='adam', loss='binary_crossentropy', metrics=['accuracy'])"
      ],
      "execution_count": 15,
      "outputs": []
    },
    {
      "cell_type": "code",
      "metadata": {
        "colab": {
          "base_uri": "https://localhost:8080/"
        },
        "id": "0ziKMQqSEUlU",
        "outputId": "8bdaacb9-e133-4d19-acd0-1f4e14f33b90"
      },
      "source": [
        "cc_classifier.fit_generator(train_data, \n",
        "                            steps_per_epoch=100, \n",
        "                            validation_data= validate_data, \n",
        "                            epochs=100, \n",
        "                            validation_steps=100)"
      ],
      "execution_count": 16,
      "outputs": [
        {
          "output_type": "stream",
          "text": [
            "/usr/local/lib/python3.7/dist-packages/tensorflow/python/keras/engine/training.py:1940: UserWarning: `Model.fit_generator` is deprecated and will be removed in a future version. Please use `Model.fit`, which supports generators.\n",
            "  warnings.warn('`Model.fit_generator` is deprecated and '\n"
          ],
          "name": "stderr"
        },
        {
          "output_type": "stream",
          "text": [
            "Epoch 1/100\n",
            "100/100 [==============================] - 17s 166ms/step - loss: 0.6921 - accuracy: 0.5295 - val_loss: 0.6844 - val_accuracy: 0.5670\n",
            "Epoch 2/100\n",
            "100/100 [==============================] - 17s 168ms/step - loss: 0.6908 - accuracy: 0.5395 - val_loss: 0.6948 - val_accuracy: 0.5110\n",
            "Epoch 3/100\n",
            "100/100 [==============================] - 18s 177ms/step - loss: 0.6882 - accuracy: 0.5395 - val_loss: 0.8420 - val_accuracy: 0.5110\n",
            "Epoch 4/100\n",
            "100/100 [==============================] - 17s 167ms/step - loss: 0.6817 - accuracy: 0.5885 - val_loss: 0.6870 - val_accuracy: 0.5370\n",
            "Epoch 5/100\n",
            "100/100 [==============================] - 16s 165ms/step - loss: 0.6825 - accuracy: 0.5615 - val_loss: 0.6886 - val_accuracy: 0.5370\n",
            "Epoch 6/100\n",
            "100/100 [==============================] - 17s 171ms/step - loss: 0.6735 - accuracy: 0.5885 - val_loss: 0.6580 - val_accuracy: 0.6480\n",
            "Epoch 7/100\n",
            "100/100 [==============================] - 18s 177ms/step - loss: 0.6565 - accuracy: 0.6260 - val_loss: 0.6434 - val_accuracy: 0.6210\n",
            "Epoch 8/100\n",
            "100/100 [==============================] - 17s 172ms/step - loss: 0.6521 - accuracy: 0.6315 - val_loss: 0.6315 - val_accuracy: 0.6640\n",
            "Epoch 9/100\n",
            "100/100 [==============================] - 18s 176ms/step - loss: 0.6439 - accuracy: 0.6450 - val_loss: 0.6127 - val_accuracy: 0.6570\n",
            "Epoch 10/100\n",
            "100/100 [==============================] - 17s 167ms/step - loss: 0.6420 - accuracy: 0.6405 - val_loss: 0.6328 - val_accuracy: 0.6520\n",
            "Epoch 11/100\n",
            "100/100 [==============================] - 17s 166ms/step - loss: 0.6328 - accuracy: 0.6400 - val_loss: 0.6075 - val_accuracy: 0.6660\n",
            "Epoch 12/100\n",
            "100/100 [==============================] - 18s 178ms/step - loss: 0.6154 - accuracy: 0.6660 - val_loss: 0.6636 - val_accuracy: 0.6460\n",
            "Epoch 13/100\n",
            "100/100 [==============================] - 17s 173ms/step - loss: 0.6063 - accuracy: 0.6755 - val_loss: 0.5881 - val_accuracy: 0.6840\n",
            "Epoch 14/100\n",
            "100/100 [==============================] - 17s 165ms/step - loss: 0.6100 - accuracy: 0.6740 - val_loss: 0.5867 - val_accuracy: 0.7000\n",
            "Epoch 15/100\n",
            "100/100 [==============================] - 17s 166ms/step - loss: 0.6185 - accuracy: 0.6525 - val_loss: 0.5876 - val_accuracy: 0.6980\n",
            "Epoch 16/100\n",
            "100/100 [==============================] - 18s 176ms/step - loss: 0.5980 - accuracy: 0.6855 - val_loss: 0.5635 - val_accuracy: 0.7070\n",
            "Epoch 17/100\n",
            "100/100 [==============================] - 17s 173ms/step - loss: 0.6047 - accuracy: 0.6745 - val_loss: 0.5801 - val_accuracy: 0.7120\n",
            "Epoch 18/100\n",
            "100/100 [==============================] - 16s 164ms/step - loss: 0.5807 - accuracy: 0.7020 - val_loss: 0.5713 - val_accuracy: 0.7070\n",
            "Epoch 19/100\n",
            "100/100 [==============================] - 16s 164ms/step - loss: 0.5720 - accuracy: 0.7105 - val_loss: 0.6028 - val_accuracy: 0.6690\n",
            "Epoch 20/100\n",
            "100/100 [==============================] - 18s 177ms/step - loss: 0.5724 - accuracy: 0.7105 - val_loss: 0.5323 - val_accuracy: 0.7450\n",
            "Epoch 21/100\n",
            "100/100 [==============================] - 17s 170ms/step - loss: 0.5529 - accuracy: 0.7230 - val_loss: 0.5257 - val_accuracy: 0.7460\n",
            "Epoch 22/100\n",
            "100/100 [==============================] - 16s 165ms/step - loss: 0.5437 - accuracy: 0.7440 - val_loss: 0.5280 - val_accuracy: 0.7530\n",
            "Epoch 23/100\n",
            "100/100 [==============================] - 16s 164ms/step - loss: 0.5425 - accuracy: 0.7235 - val_loss: 0.5351 - val_accuracy: 0.7260\n",
            "Epoch 24/100\n",
            "100/100 [==============================] - 18s 177ms/step - loss: 0.5237 - accuracy: 0.7475 - val_loss: 0.4995 - val_accuracy: 0.7630\n",
            "Epoch 25/100\n",
            "100/100 [==============================] - 17s 171ms/step - loss: 0.5191 - accuracy: 0.7470 - val_loss: 0.5327 - val_accuracy: 0.7390\n",
            "Epoch 26/100\n",
            "100/100 [==============================] - 16s 165ms/step - loss: 0.5060 - accuracy: 0.7580 - val_loss: 0.4914 - val_accuracy: 0.7570\n",
            "Epoch 27/100\n",
            "100/100 [==============================] - 17s 166ms/step - loss: 0.5083 - accuracy: 0.7490 - val_loss: 0.5025 - val_accuracy: 0.7560\n",
            "Epoch 28/100\n",
            "100/100 [==============================] - 18s 178ms/step - loss: 0.5162 - accuracy: 0.7520 - val_loss: 0.5037 - val_accuracy: 0.7500\n",
            "Epoch 29/100\n",
            "100/100 [==============================] - 17s 171ms/step - loss: 0.4986 - accuracy: 0.7710 - val_loss: 0.5190 - val_accuracy: 0.7360\n",
            "Epoch 30/100\n",
            "100/100 [==============================] - 18s 178ms/step - loss: 0.4977 - accuracy: 0.7560 - val_loss: 0.4595 - val_accuracy: 0.7910\n",
            "Epoch 31/100\n",
            "100/100 [==============================] - 17s 168ms/step - loss: 0.4985 - accuracy: 0.7575 - val_loss: 0.4566 - val_accuracy: 0.7710\n",
            "Epoch 32/100\n",
            "100/100 [==============================] - 16s 165ms/step - loss: 0.4628 - accuracy: 0.7800 - val_loss: 0.4775 - val_accuracy: 0.7700\n",
            "Epoch 33/100\n",
            "100/100 [==============================] - 17s 168ms/step - loss: 0.4783 - accuracy: 0.7810 - val_loss: 0.4713 - val_accuracy: 0.7730\n",
            "Epoch 34/100\n",
            "100/100 [==============================] - 18s 179ms/step - loss: 0.4711 - accuracy: 0.7745 - val_loss: 0.4570 - val_accuracy: 0.7820\n",
            "Epoch 35/100\n",
            "100/100 [==============================] - 17s 168ms/step - loss: 0.4572 - accuracy: 0.7910 - val_loss: 0.4467 - val_accuracy: 0.7950\n",
            "Epoch 36/100\n",
            "100/100 [==============================] - 16s 165ms/step - loss: 0.4533 - accuracy: 0.7885 - val_loss: 0.4682 - val_accuracy: 0.7730\n",
            "Epoch 37/100\n",
            "100/100 [==============================] - 18s 176ms/step - loss: 0.4583 - accuracy: 0.7890 - val_loss: 0.4681 - val_accuracy: 0.7850\n",
            "Epoch 38/100\n",
            "100/100 [==============================] - 17s 172ms/step - loss: 0.4619 - accuracy: 0.7870 - val_loss: 0.4836 - val_accuracy: 0.7560\n",
            "Epoch 39/100\n",
            "100/100 [==============================] - 17s 165ms/step - loss: 0.4626 - accuracy: 0.7790 - val_loss: 0.6249 - val_accuracy: 0.6780\n",
            "Epoch 40/100\n",
            "100/100 [==============================] - 16s 164ms/step - loss: 0.4765 - accuracy: 0.7775 - val_loss: 0.4812 - val_accuracy: 0.7720\n",
            "Epoch 41/100\n",
            "100/100 [==============================] - 18s 176ms/step - loss: 0.4551 - accuracy: 0.7955 - val_loss: 0.4186 - val_accuracy: 0.8100\n",
            "Epoch 42/100\n",
            "100/100 [==============================] - 17s 175ms/step - loss: 0.4366 - accuracy: 0.8005 - val_loss: 0.4554 - val_accuracy: 0.7910\n",
            "Epoch 43/100\n",
            "100/100 [==============================] - 17s 167ms/step - loss: 0.4363 - accuracy: 0.7985 - val_loss: 0.4597 - val_accuracy: 0.7840\n",
            "Epoch 44/100\n",
            "100/100 [==============================] - 17s 167ms/step - loss: 0.4293 - accuracy: 0.8075 - val_loss: 0.4345 - val_accuracy: 0.7980\n",
            "Epoch 45/100\n",
            "100/100 [==============================] - 18s 179ms/step - loss: 0.4145 - accuracy: 0.8160 - val_loss: 0.4236 - val_accuracy: 0.8050\n",
            "Epoch 46/100\n",
            "100/100 [==============================] - 17s 171ms/step - loss: 0.4168 - accuracy: 0.8075 - val_loss: 0.4202 - val_accuracy: 0.8150\n",
            "Epoch 47/100\n",
            "100/100 [==============================] - 18s 179ms/step - loss: 0.4095 - accuracy: 0.8185 - val_loss: 0.4459 - val_accuracy: 0.8060\n",
            "Epoch 48/100\n",
            "100/100 [==============================] - 17s 166ms/step - loss: 0.4365 - accuracy: 0.8035 - val_loss: 0.4154 - val_accuracy: 0.8140\n",
            "Epoch 49/100\n",
            "100/100 [==============================] - 16s 165ms/step - loss: 0.4185 - accuracy: 0.8165 - val_loss: 0.4531 - val_accuracy: 0.7890\n",
            "Epoch 50/100\n",
            "100/100 [==============================] - 17s 170ms/step - loss: 0.4112 - accuracy: 0.8065 - val_loss: 0.4320 - val_accuracy: 0.8050\n",
            "Epoch 51/100\n",
            "100/100 [==============================] - 18s 176ms/step - loss: 0.4087 - accuracy: 0.8180 - val_loss: 0.4176 - val_accuracy: 0.8020\n",
            "Epoch 52/100\n",
            "100/100 [==============================] - 17s 167ms/step - loss: 0.4123 - accuracy: 0.8105 - val_loss: 0.4373 - val_accuracy: 0.8020\n",
            "Epoch 53/100\n",
            "100/100 [==============================] - 16s 165ms/step - loss: 0.3947 - accuracy: 0.8190 - val_loss: 0.3994 - val_accuracy: 0.8310\n",
            "Epoch 54/100\n",
            "100/100 [==============================] - 17s 172ms/step - loss: 0.4292 - accuracy: 0.8065 - val_loss: 0.4019 - val_accuracy: 0.8150\n",
            "Epoch 55/100\n",
            "100/100 [==============================] - 17s 175ms/step - loss: 0.4154 - accuracy: 0.8040 - val_loss: 0.3915 - val_accuracy: 0.8180\n",
            "Epoch 56/100\n",
            "100/100 [==============================] - 17s 166ms/step - loss: 0.3902 - accuracy: 0.8240 - val_loss: 0.3955 - val_accuracy: 0.8240\n",
            "Epoch 57/100\n",
            "100/100 [==============================] - 16s 165ms/step - loss: 0.4022 - accuracy: 0.8285 - val_loss: 0.4019 - val_accuracy: 0.8110\n",
            "Epoch 58/100\n",
            "100/100 [==============================] - 17s 173ms/step - loss: 0.3725 - accuracy: 0.8290 - val_loss: 0.4028 - val_accuracy: 0.8230\n",
            "Epoch 59/100\n",
            "100/100 [==============================] - 17s 173ms/step - loss: 0.3785 - accuracy: 0.8195 - val_loss: 0.4204 - val_accuracy: 0.8170\n",
            "Epoch 60/100\n",
            "100/100 [==============================] - 17s 166ms/step - loss: 0.3942 - accuracy: 0.8105 - val_loss: 0.4167 - val_accuracy: 0.8310\n",
            "Epoch 61/100\n",
            "100/100 [==============================] - 16s 164ms/step - loss: 0.3722 - accuracy: 0.8345 - val_loss: 0.3763 - val_accuracy: 0.8370\n",
            "Epoch 62/100\n",
            "100/100 [==============================] - 17s 175ms/step - loss: 0.3946 - accuracy: 0.8185 - val_loss: 0.4137 - val_accuracy: 0.8110\n",
            "Epoch 63/100\n",
            "100/100 [==============================] - 17s 172ms/step - loss: 0.3849 - accuracy: 0.8325 - val_loss: 0.3625 - val_accuracy: 0.8390\n",
            "Epoch 64/100\n",
            "100/100 [==============================] - 16s 165ms/step - loss: 0.3551 - accuracy: 0.8385 - val_loss: 0.4113 - val_accuracy: 0.8070\n",
            "Epoch 65/100\n",
            "100/100 [==============================] - 16s 164ms/step - loss: 0.3730 - accuracy: 0.8365 - val_loss: 0.4246 - val_accuracy: 0.8150\n",
            "Epoch 66/100\n",
            "100/100 [==============================] - 18s 176ms/step - loss: 0.3603 - accuracy: 0.8425 - val_loss: 0.3760 - val_accuracy: 0.8360\n",
            "Epoch 67/100\n",
            "100/100 [==============================] - 17s 172ms/step - loss: 0.3677 - accuracy: 0.8305 - val_loss: 0.3875 - val_accuracy: 0.8280\n",
            "Epoch 68/100\n",
            "100/100 [==============================] - 18s 179ms/step - loss: 0.3527 - accuracy: 0.8415 - val_loss: 0.3774 - val_accuracy: 0.8330\n",
            "Epoch 69/100\n",
            "100/100 [==============================] - 17s 170ms/step - loss: 0.3487 - accuracy: 0.8500 - val_loss: 0.3951 - val_accuracy: 0.8280\n",
            "Epoch 70/100\n",
            "100/100 [==============================] - 17s 167ms/step - loss: 0.3528 - accuracy: 0.8495 - val_loss: 0.4010 - val_accuracy: 0.8320\n",
            "Epoch 71/100\n",
            "100/100 [==============================] - 17s 169ms/step - loss: 0.3526 - accuracy: 0.8345 - val_loss: 0.3906 - val_accuracy: 0.8220\n",
            "Epoch 72/100\n",
            "100/100 [==============================] - 18s 178ms/step - loss: 0.3687 - accuracy: 0.8275 - val_loss: 0.3761 - val_accuracy: 0.8260\n",
            "Epoch 73/100\n",
            "100/100 [==============================] - 17s 167ms/step - loss: 0.3655 - accuracy: 0.8285 - val_loss: 0.3887 - val_accuracy: 0.8170\n",
            "Epoch 74/100\n",
            "100/100 [==============================] - 16s 165ms/step - loss: 0.3443 - accuracy: 0.8375 - val_loss: 0.3626 - val_accuracy: 0.8440\n",
            "Epoch 75/100\n",
            "100/100 [==============================] - 17s 170ms/step - loss: 0.3433 - accuracy: 0.8485 - val_loss: 0.3973 - val_accuracy: 0.8360\n",
            "Epoch 76/100\n",
            "100/100 [==============================] - 18s 178ms/step - loss: 0.3589 - accuracy: 0.8335 - val_loss: 0.4125 - val_accuracy: 0.8200\n",
            "Epoch 77/100\n",
            "100/100 [==============================] - 17s 165ms/step - loss: 0.3263 - accuracy: 0.8545 - val_loss: 0.3853 - val_accuracy: 0.8300\n",
            "Epoch 78/100\n",
            "100/100 [==============================] - 16s 164ms/step - loss: 0.3470 - accuracy: 0.8390 - val_loss: 0.3689 - val_accuracy: 0.8400\n",
            "Epoch 79/100\n",
            "100/100 [==============================] - 17s 171ms/step - loss: 0.3347 - accuracy: 0.8450 - val_loss: 0.3639 - val_accuracy: 0.8470\n",
            "Epoch 80/100\n",
            "100/100 [==============================] - 18s 176ms/step - loss: 0.3153 - accuracy: 0.8585 - val_loss: 0.4515 - val_accuracy: 0.8130\n",
            "Epoch 81/100\n",
            "100/100 [==============================] - 17s 166ms/step - loss: 0.3323 - accuracy: 0.8475 - val_loss: 0.3865 - val_accuracy: 0.8320\n",
            "Epoch 82/100\n",
            "100/100 [==============================] - 16s 164ms/step - loss: 0.3230 - accuracy: 0.8490 - val_loss: 0.3688 - val_accuracy: 0.8430\n",
            "Epoch 83/100\n",
            "100/100 [==============================] - 17s 171ms/step - loss: 0.3267 - accuracy: 0.8555 - val_loss: 0.3973 - val_accuracy: 0.8150\n",
            "Epoch 84/100\n",
            "100/100 [==============================] - 17s 175ms/step - loss: 0.3372 - accuracy: 0.8470 - val_loss: 0.3513 - val_accuracy: 0.8480\n",
            "Epoch 85/100\n",
            "100/100 [==============================] - 17s 173ms/step - loss: 0.3192 - accuracy: 0.8690 - val_loss: 0.3757 - val_accuracy: 0.8300\n",
            "Epoch 86/100\n",
            "100/100 [==============================] - 17s 173ms/step - loss: 0.3019 - accuracy: 0.8710 - val_loss: 0.3572 - val_accuracy: 0.8520\n",
            "Epoch 87/100\n",
            "100/100 [==============================] - 17s 165ms/step - loss: 0.2989 - accuracy: 0.8670 - val_loss: 0.3741 - val_accuracy: 0.8540\n",
            "Epoch 88/100\n",
            "100/100 [==============================] - 16s 165ms/step - loss: 0.3129 - accuracy: 0.8625 - val_loss: 0.4287 - val_accuracy: 0.8150\n",
            "Epoch 89/100\n",
            "100/100 [==============================] - 17s 174ms/step - loss: 0.3069 - accuracy: 0.8560 - val_loss: 0.3547 - val_accuracy: 0.8490\n",
            "Epoch 90/100\n",
            "100/100 [==============================] - 17s 172ms/step - loss: 0.3076 - accuracy: 0.8640 - val_loss: 0.4489 - val_accuracy: 0.8320\n",
            "Epoch 91/100\n",
            "100/100 [==============================] - 16s 164ms/step - loss: 0.3115 - accuracy: 0.8620 - val_loss: 0.3722 - val_accuracy: 0.8470\n",
            "Epoch 92/100\n",
            "100/100 [==============================] - 16s 164ms/step - loss: 0.2969 - accuracy: 0.8730 - val_loss: 0.3913 - val_accuracy: 0.8340\n",
            "Epoch 93/100\n",
            "100/100 [==============================] - 17s 175ms/step - loss: 0.3055 - accuracy: 0.8670 - val_loss: 0.3814 - val_accuracy: 0.8360\n",
            "Epoch 94/100\n",
            "100/100 [==============================] - 17s 172ms/step - loss: 0.3139 - accuracy: 0.8695 - val_loss: 0.4144 - val_accuracy: 0.8230\n",
            "Epoch 95/100\n",
            "100/100 [==============================] - 17s 167ms/step - loss: 0.2982 - accuracy: 0.8680 - val_loss: 0.3686 - val_accuracy: 0.8450\n",
            "Epoch 96/100\n",
            "100/100 [==============================] - 16s 165ms/step - loss: 0.3243 - accuracy: 0.8600 - val_loss: 0.3790 - val_accuracy: 0.8360\n",
            "Epoch 97/100\n",
            "100/100 [==============================] - 18s 178ms/step - loss: 0.2940 - accuracy: 0.8760 - val_loss: 0.4079 - val_accuracy: 0.8280\n",
            "Epoch 98/100\n",
            "100/100 [==============================] - 17s 170ms/step - loss: 0.2930 - accuracy: 0.8695 - val_loss: 0.3561 - val_accuracy: 0.8460\n",
            "Epoch 99/100\n",
            "100/100 [==============================] - 16s 164ms/step - loss: 0.3159 - accuracy: 0.8650 - val_loss: 0.3729 - val_accuracy: 0.8420\n",
            "Epoch 100/100\n",
            "100/100 [==============================] - 16s 165ms/step - loss: 0.2821 - accuracy: 0.8750 - val_loss: 0.3632 - val_accuracy: 0.8390\n"
          ],
          "name": "stdout"
        },
        {
          "output_type": "execute_result",
          "data": {
            "text/plain": [
              "<tensorflow.python.keras.callbacks.History at 0x7fcab86abc50>"
            ]
          },
          "metadata": {
            "tags": []
          },
          "execution_count": 16
        }
      ]
    },
    {
      "cell_type": "code",
      "metadata": {
        "id": "BaTfRHWIEwGi"
      },
      "source": [
        "train_acc = cc_classifier.history.history['accuracy']\n",
        "val_acc = cc_classifier.history.history['val_accuracy']\n",
        "train_loss = cc_classifier.history.history['loss']\n",
        "val_loss = cc_classifier.history.history['val_loss']\n",
        "epochs = range(len(val_loss))\n",
        "\n",
        "\n"
      ],
      "execution_count": 20,
      "outputs": []
    },
    {
      "cell_type": "code",
      "metadata": {
        "id": "HCsE0dEzFrh8"
      },
      "source": [
        "import matplotlib.pyplot as plt"
      ],
      "execution_count": 21,
      "outputs": []
    },
    {
      "cell_type": "code",
      "metadata": {
        "colab": {
          "base_uri": "https://localhost:8080/",
          "height": 281
        },
        "id": "VPX33qBFGQrb",
        "outputId": "a4ecb521-875c-40c6-d3b8-5e14bf6e2058"
      },
      "source": [
        "plt.plot(epochs, train_loss, 'r', label = 'Training Loss')\n",
        "plt.plot(epochs, val_loss, 'g', label = 'Validation loss')\n",
        "plt.title(\"Loss Comparison between Training And Validation\")\n",
        "plt.show()\n"
      ],
      "execution_count": 24,
      "outputs": [
        {
          "output_type": "display_data",
          "data": {
            "image/png": "[encoded data removed]",
            "text/plain": [
              "<Figure size 432x288 with 1 Axes>"
            ]
          },
          "metadata": {
            "tags": [],
            "needs_background": "light"
          }
        }
      ]
    },
    {
      "cell_type": "code",
      "metadata": {
        "colab": {
          "base_uri": "https://localhost:8080/",
          "height": 281
        },
        "id": "0tdJXxGfFuJ2",
        "outputId": "203449f2-18cc-4264-d09a-d76e235d1d92"
      },
      "source": [
        "plt.plot(epochs, train_acc, 'r', label = 'Training Accuracy')\n",
        "plt.plot(epochs, val_acc, 'g', label = 'Validation Accuracy')\n",
        "plt.title(\"Accuracy Comparison between Training And Validation\")\n",
        "plt.show()"
      ],
      "execution_count": 25,
      "outputs": [
        {
          "output_type": "display_data",
          "data": {
            "image/png": "[encoded data removed]",
            "text/plain": [
              "<Figure size 432x288 with 1 Axes>"
            ]
          },
          "metadata": {
            "tags": [],
            "needs_background": "light"
          }
        }
      ]
    },
    {
      "cell_type": "code",
      "metadata": {
        "id": "dOQjb3MlGWqr"
      },
      "source": [
        ""
      ],
      "execution_count": null,
      "outputs": []
    }
  ]
}