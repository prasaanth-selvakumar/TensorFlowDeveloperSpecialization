{
  "nbformat": 4,
  "nbformat_minor": 0,
  "metadata": {
    "colab": {
      "name": "CatvsDogClassifier.ipynb",
      "private_outputs": true,
      "provenance": []
    },
    "kernelspec": {
      "name": "python3",
      "display_name": "Python 3"
    },
    "language_info": {
      "name": "python"
    },
    "accelerator": "GPU"
  },
  "cells": [
    {
      "cell_type": "markdown",
      "metadata": {
        "id": "BgS9fUJycTX0"
      },
      "source": [
        "## Cat vs Dog Classifier \n",
        "\n",
        "Starting with a simple classifer similar to the one used in horses vs humans and checking the accuracy in the data. \n",
        "\n",
        "\n",
        "Execute the following notebook in a GPU instance - training is very slow on a regular colab instance \n"
      ]
    },
    {
      "cell_type": "code",
      "metadata": {
        "id": "KC8F9XUBbhgb"
      },
      "source": [
        "!wget --no-check-certificate \\\n",
        "  https://storage.googleapis.com/mledu-datasets/cats_and_dogs_filtered.zip \\\n",
        "  -O /tmp/cats_and_dogs_filtered.zip"
      ],
      "execution_count": null,
      "outputs": []
    },
    {
      "cell_type": "code",
      "metadata": {
        "id": "jPtoFg6dciEV"
      },
      "source": [
        "!unzip /tmp/cats_and_dogs_filtered.zip  ### This time the data has already been split into train and test sets "
      ],
      "execution_count": null,
      "outputs": []
    },
    {
      "cell_type": "code",
      "metadata": {
        "id": "Z635eU2Zc_WC"
      },
      "source": [
        "from tensorflow import keras "
      ],
      "execution_count": null,
      "outputs": []
    },
    {
      "cell_type": "code",
      "metadata": {
        "id": "lmllYIKdcsoj"
      },
      "source": [
        "cat_vs_dog_classifier = keras.Sequential([keras.layers.Conv2D(16, (3, 3), input_shape=(150, 150, 3), activation='relu' ),\n",
        "                                          keras.layers.MaxPooling2D(2, 2), \n",
        "                                          keras.layers.Conv2D(32, (3, 3), activation='relu'),\n",
        "                                          keras.layers.MaxPooling2D(2,2),\n",
        "                                          keras.layers.Conv2D(64, (3,3), activation='relu'),\n",
        "                                          keras.layers.Flatten(),\n",
        "                                          keras.layers.Dense(512, activation='relu'),\n",
        "                                          keras.layers.Dense(1, activation='sigmoid')])"
      ],
      "execution_count": null,
      "outputs": []
    },
    {
      "cell_type": "code",
      "metadata": {
        "id": "GJcN2ANTd5Jb"
      },
      "source": [
        "cat_vs_dog_classifier.compile(optimizer='adam', loss='binary_crossentropy', metrics=['accuracy'])"
      ],
      "execution_count": null,
      "outputs": []
    },
    {
      "cell_type": "code",
      "metadata": {
        "id": "S25xXANKeU9H"
      },
      "source": [
        "from tensorflow.keras.preprocessing.image import ImageDataGenerator\n",
        "### Building the image generators \n",
        "train_gen = ImageDataGenerator(rescale=1./255)\n",
        "validate_gen = ImageDataGenerator(rescale=1./255)\n",
        "\n",
        "train_data = train_gen.flow_from_directory('cats_and_dogs_filtered/train',\n",
        "                                           target_size=(150,150),\n",
        "                                           batch_size=128,\n",
        "                                           class_mode='binary')\n",
        "\n",
        "\n",
        "validate_data = train_gen.flow_from_directory('cats_and_dogs_filtered/validation',\n",
        "                                           target_size=(150,150),\n",
        "                                           batch_size=128,\n",
        "                                           class_mode='binary')"
      ],
      "execution_count": null,
      "outputs": []
    },
    {
      "cell_type": "code",
      "metadata": {
        "id": "5rtq4fA4eZnj"
      },
      "source": [
        "## Model Training \n",
        "\n",
        "cat_vs_dog_classifier.fit_generator(train_data,\n",
        "                                    steps_per_epoch=16,\n",
        "                                    epochs=100,\n",
        "                                    validation_data=validate_data,\n",
        "                                    validation_steps=8)"
      ],
      "execution_count": null,
      "outputs": []
    },
    {
      "cell_type": "code",
      "metadata": {
        "id": "5LUGuQnv_4vK"
      },
      "source": [
        "import matplotlib.pyplot as plt"
      ],
      "execution_count": null,
      "outputs": []
    },
    {
      "cell_type": "code",
      "metadata": {
        "id": "BvOWiao9fusI"
      },
      "source": [
        "train_acc = cat_vs_dog_classifier.history.history['accuracy']\n",
        "train_loss = cat_vs_dog_classifier.history.history['loss']\n",
        "val_acc = cat_vs_dog_classifier.history.history['val_accuracy']\n",
        "val_loss = cat_vs_dog_classifier.history.history['val_loss']\n",
        "\n",
        "epochs = range(len(val_loss))\n",
        "\n"
      ],
      "execution_count": null,
      "outputs": []
    },
    {
      "cell_type": "code",
      "metadata": {
        "id": "Hqh6R4FGAQtT"
      },
      "source": [
        "\n",
        "plt.plot(epochs, train_loss, 'r', label='Training Loss')\n",
        "plt.plot(epochs, val_loss, 'g', label='Validation Loss')\n",
        "plt.title(\"Comparing Training Vs Validation Loss over epochs\")\n",
        "plt.show()\n"
      ],
      "execution_count": null,
      "outputs": []
    },
    {
      "cell_type": "code",
      "metadata": {
        "id": "MosTluJt_kJI"
      },
      "source": [
        "plt.plot(epochs, train_acc, 'r', label='Training Accuracy')\n",
        "plt.plot(epochs, val_acc, 'g', label='Validation Accuracy')\n",
        "plt.title(\"Comparing Training Vs Validation Accuracy over epochs\")\n",
        "plt.show()\n",
        "\n"
      ],
      "execution_count": null,
      "outputs": []
    },
    {
      "cell_type": "markdown",
      "metadata": {
        "id": "rXlMZjALArcx"
      },
      "source": [
        "The plot shows that the trainig accuracy has topped off at 100% whereas the validation accuracy stopped improving at 70 \n",
        "This is a sign of overfitting \n",
        "we will employ techiniques of augmentation to see if we can reduce overfitting "
      ]
    },
    {
      "cell_type": "code",
      "metadata": {
        "id": "VyS9IMWi_nXr"
      },
      "source": [
        ""
      ],
      "execution_count": null,
      "outputs": []
    }
  ]
}